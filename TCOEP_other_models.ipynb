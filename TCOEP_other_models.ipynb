{
 "cells": [
  {
   "cell_type": "code",
   "execution_count": 1,
   "metadata": {},
   "outputs": [],
   "source": [
    "import pandas as pd\n",
    "import numpy as np\n",
    "import matplotlib.pyplot as plt\n",
    "\n",
    "from time import time"
   ]
  },
  {
   "cell_type": "code",
   "execution_count": 2,
   "metadata": {},
   "outputs": [],
   "source": [
    "import warnings\n",
    "warnings.filterwarnings('ignore')"
   ]
  },
  {
   "cell_type": "markdown",
   "metadata": {},
   "source": [
    "### Organize data"
   ]
  },
  {
   "cell_type": "code",
   "execution_count": 3,
   "metadata": {},
   "outputs": [],
   "source": [
    "df=pd.read_excel('raw_data_bbg.xlsx',\n",
    "                 sheet_name='px_data',\n",
    "                header=0)\n",
    "df['Date']=pd.to_datetime(df['Date'])\n",
    "\n",
    "# Because of saving issues, 39 NA appeared at the tail\n",
    "df = df.iloc[:-39]"
   ]
  },
  {
   "cell_type": "code",
   "execution_count": 4,
   "metadata": {},
   "outputs": [],
   "source": [
    "px=df.dropna(axis=1) #drop stocks without full data, 88 stocks remain\n",
    "px=px.set_index('Date')\n",
    "#px"
   ]
  },
  {
   "cell_type": "code",
   "execution_count": 5,
   "metadata": {},
   "outputs": [
    {
     "data": {
      "text/plain": [
       "Index(['AAPL UW Equity', 'ABT UN Equity', 'ACN UN Equity', 'ADBE UW Equity',\n",
       "       'AIG UN Equity'],\n",
       "      dtype='object')"
      ]
     },
     "execution_count": 5,
     "metadata": {},
     "output_type": "execute_result"
    }
   ],
   "source": [
    "stock_list=px.columns\n",
    "stock_list[:5] #show first 5"
   ]
  },
  {
   "cell_type": "code",
   "execution_count": 6,
   "metadata": {},
   "outputs": [
    {
     "data": {
      "text/plain": [
       "88"
      ]
     },
     "execution_count": 6,
     "metadata": {},
     "output_type": "execute_result"
    }
   ],
   "source": [
    "len(stock_list)"
   ]
  },
  {
   "cell_type": "code",
   "execution_count": 7,
   "metadata": {},
   "outputs": [],
   "source": [
    "#these will be part of the feature space\n",
    "ma11=px.rolling(11).mean() \n",
    "ma50=px.rolling(50).mean()\n",
    "ma200=px.rolling(200).mean()"
   ]
  },
  {
   "cell_type": "code",
   "execution_count": 8,
   "metadata": {},
   "outputs": [],
   "source": [
    "df2=pd.read_excel('raw_data_bbg.xlsx',sheet_name='earn_data',header=0)"
   ]
  },
  {
   "cell_type": "code",
   "execution_count": 9,
   "metadata": {},
   "outputs": [],
   "source": [
    "\n",
    "earn_dates=df2.iloc[:, range(2,807,8) ]\n",
    "earn_dates.columns=df.columns[1:]\n",
    "#earn_dates  #holds the earnings announcement dates"
   ]
  },
  {
   "cell_type": "code",
   "execution_count": 10,
   "metadata": {},
   "outputs": [],
   "source": [
    "EPS=df2.iloc[:, range(5,807,8) ]\n",
    "EPS.columns=df.columns[1:]\n",
    "#EPS   #holds the 'comparable' EPS, i.e. not basic EPS"
   ]
  },
  {
   "cell_type": "code",
   "execution_count": 11,
   "metadata": {},
   "outputs": [],
   "source": [
    "est_EPS=df2.iloc[:, range(6,807,8) ]\n",
    "est_EPS.columns=df.columns[1:]\n",
    "#est_EPS   #holds the forecast consensus for the comparable EPS"
   ]
  },
  {
   "cell_type": "markdown",
   "metadata": {},
   "source": [
    "### Implementation of CorrelNowcast algorithm from paper"
   ]
  },
  {
   "cell_type": "code",
   "execution_count": 12,
   "metadata": {},
   "outputs": [],
   "source": [
    "def my_CorrelNowcast(s, W, model, X_all, y_all, Info, start_date, end_date): \n",
    "    # s for bbg ticker, W for window size, nu for regularization param\n",
    "    # output inclusive of end date\n",
    "    \n",
    "    begin = np.where(X_all.index==start_date)[0][0] #get integer index corresponding to date\n",
    "    end = np.where(X_all.index==end_date)[0][0] \n",
    "\n",
    "    Ew_X = X_all.iloc[begin-W:begin,:] \n",
    "    Ew_y = y_all.iloc[begin-W:begin,0].to_numpy() #0 for the EPS column\n",
    "\n",
    "    model.fit(Ew_X, Ew_y) #initialize\n",
    "\n",
    "    P = None\n",
    "    Q = None\n",
    "    output = np.zeros(end-begin+1)\n",
    "    for t in range(begin, end+1):\n",
    "\n",
    "        P = pd.DataFrame([X_all.iloc[t,:].to_numpy()]) \\\n",
    "            if P is None else P.append(pd.DataFrame([X_all.iloc[t,:].to_numpy()]))\n",
    "\n",
    "        if Q is None:\n",
    "            Q = list(model.predict(X_all.iloc[t,:].to_numpy().reshape(1,-1)))\n",
    "        else:\n",
    "            Q.append(model.predict(X_all.iloc[t,:].to_numpy().reshape(1,-1)))\n",
    "        \n",
    "        output[t-begin] = np.mean(Q)\n",
    "\n",
    "        if X_all.index[t] in Info.index: #if we are at an earnings announcement date\n",
    "            P.columns=Ew_X.columns #needed for correct appending\n",
    "            Ew_X=Ew_X.append(P) #works as the for loop in the paper\n",
    "            Ew_y=np.concatenate([Ew_y, [Info.loc[X_all.index[t], 'EPS']]*len(Q)])\n",
    "            P=None\n",
    "            Q=None\n",
    "            \n",
    "            if Ew_X.shape[0]>W:\n",
    "                Ew_X=Ew_X.iloc[-W:,:] #keep only W rows\n",
    "                Ew_y=Ew_y[-W:]\n",
    "            \n",
    "            model.fit(Ew_X, Ew_y) #retrain\n",
    "        \n",
    "    return output"
   ]
  },
  {
   "cell_type": "markdown",
   "metadata": {},
   "source": [
    "### Cross validation for nu and W (this code takes 6 hrs to run, results saved as text below) "
   ]
  },
  {
   "cell_type": "code",
   "execution_count": 13,
   "metadata": {},
   "outputs": [],
   "source": [
    "from sklearn.linear_model import LassoCV"
   ]
  },
  {
   "cell_type": "code",
   "execution_count": 14,
   "metadata": {},
   "outputs": [],
   "source": [
    "from sklearn.ensemble import GradientBoostingRegressor"
   ]
  },
  {
   "cell_type": "code",
   "execution_count": 18,
   "metadata": {},
   "outputs": [
    {
     "name": "stdout",
     "output_type": "stream",
     "text": [
      "Now in loop: nu=10, W=11...0123456789101112131415161718192021222324252627282930313233343536373839404142434445464748495051525354555657585960616263646566676869707172737475767778798081828384858687\n",
      "0.21653586386097246\n",
      "Now in loop: nu=50, W=11...0123456789101112131415161718192021222324252627282930313233343536373839404142434445464748495051525354555657585960616263646566676869707172737475767778798081828384858687\n",
      "0.2159612667270556\n",
      "Now in loop: nu=100, W=11...0123456789101112131415161718192021222324252627282930313233343536373839404142434445464748495051525354555657585960616263646566676869707172737475767778798081828384858687\n",
      "0.2159258954964301\n",
      "Now in loop: nu=300, W=11...0123456789101112131415161718192021222324252627282930313233343536373839404142434445464748495051525354555657585960616263646566676869707172737475767778798081828384858687\n",
      "0.21601094837111076\n",
      "Now in loop: nu=500, W=11...0123456789101112131415161718192021222324252627282930313233343536373839404142434445464748495051525354555657585960616263646566676869707172737475767778798081828384858687\n",
      "0.21588976117733105\n",
      "Now in loop: nu=1000, W=11...0123456789101112131415161718192021222324252627282930313233343536373839404142434445464748495051525354555657585960616263646566676869707172737475767778798081828384858687\n",
      "0.2158477481688239\n",
      "Now in loop: nu=2000, W=11...0123456789101112131415161718192021222324252627282930313233343536373839404142434445464748495051525354555657585960616263646566676869707172737475767778798081828384858687\n",
      "0.21602099716189818\n",
      "Now in loop: nu=10, W=50...0123456789101112131415161718192021222324252627282930313233343536373839404142434445464748495051525354555657585960616263646566676869707172737475767778798081828384858687\n",
      "0.2208327508744225\n",
      "Now in loop: nu=50, W=50...0123456789101112131415161718192021222324252627282930313233343536373839404142434445464748495051525354555657585960616263646566676869707172737475767778798081828384858687\n",
      "0.21688401575704033\n",
      "Now in loop: nu=100, W=50...0123456789101112131415161718192021222324252627282930313233343536373839404142434445464748495051525354555657585960616263646566676869707172737475767778798081828384858687\n",
      "0.21713689399419558\n",
      "Now in loop: nu=300, W=50...0123456789101112131415161718192021222324252627282930313233343536373839404142434445464748495051525354555657585960616263646566676869707172737475767778798081828384858687\n",
      "0.2169583562739389\n",
      "Now in loop: nu=500, W=50...0123456789101112131415161718192021222324252627282930313233343536373839404142434445464748495051525354555657585960616263646566676869707172737475767778798081828384858687\n",
      "0.21705302327777828\n",
      "Now in loop: nu=1000, W=50...0123456789101112131415161718192021222324252627282930313233343536373839404142434445464748495051525354555657585960616263646566676869707172737475767778798081828384858687\n",
      "0.2168723570799874\n",
      "Now in loop: nu=2000, W=50...0123456789101112131415161718192021222324252627282930313233343536373839404142434445464748495051525354555657585960616263646566676869707172737475767778798081828384858687\n",
      "0.2168806951517338\n",
      "Now in loop: nu=10, W=125...0123456789101112131415161718192021222324252627282930313233343536373839404142434445464748495051525354555657585960616263646566676869707172737475767778798081828384858687\n",
      "0.21950312175433925\n",
      "Now in loop: nu=50, W=125...0123456789101112131415161718192021222324252627282930313233343536373839404142434445464748495051525354555657585960616263646566676869707172737475767778798081828384858687\n",
      "0.21871896262431625\n",
      "Now in loop: nu=100, W=125...0123456789101112131415161718192021222324252627282930313233343536373839404142434445464748495051525354555657585960616263646566676869707172737475767778798081828384858687\n",
      "0.21932637432288826\n",
      "Now in loop: nu=300, W=125...0123456789101112131415161718192021222324252627282930313233343536373839404142434445464748495051525354555657585960616263646566676869707172737475767778798081828384858687\n",
      "0.2188838038436978\n",
      "Now in loop: nu=500, W=125...0123456789101112131415161718192021222324252627282930313233343536373839404142434445464748495051525354555657585960616263646566676869707172737475767778798081828384858687\n",
      "0.21889108211971522\n",
      "Now in loop: nu=1000, W=125...0123456789101112131415161718192021222324252627282930313233343536373839404142434445464748495051525354555657585960616263646566676869707172737475767778798081828384858687\n",
      "0.21989037867290892\n",
      "Now in loop: nu=2000, W=125...0123456789101112131415161718192021222324252627282930313233343536373839404142434445464748495051525354555657585960616263646566676869707172737475767778798081828384858687\n",
      "0.21832212202934953\n",
      "Now in loop: nu=10, W=200...0123456789101112131415161718192021222324252627282930313233343536373839404142434445464748495051525354555657585960616263646566676869707172737475767778798081828384858687\n",
      "0.2084700793062482\n",
      "Now in loop: nu=50, W=200...0123456789101112131415161718192021222324252627282930313233343536373839404142434445464748495051525354555657585960616263646566676869707172737475767778798081828384858687\n",
      "0.20922146465952898\n",
      "Now in loop: nu=100, W=200...0123456789101112131415161718192021222324252627282930313233343536373839404142434445464748495051525354555657585960616263646566676869707172737475767778798081828384858687\n",
      "0.21068975499977488\n",
      "Now in loop: nu=300, W=200...0123456789101112131415161718192021222324252627282930313233343536373839404142434445464748495051525354555657585960616263646566676869707172737475767778798081828384858687\n",
      "0.21335649434470855\n",
      "Now in loop: nu=500, W=200...0123456789101112131415161718192021222324252627282930313233343536373839404142434445464748495051525354555657585960616263646566676869707172737475767778798081828384858687\n",
      "0.21196765181074861\n",
      "Now in loop: nu=1000, W=200...0123456789101112131415161718192021222324252627282930313233343536373839404142434445464748495051525354555657585960616263646566676869707172737475767778798081828384858687\n",
      "0.21077607656511835\n",
      "Now in loop: nu=2000, W=200...0123456789101112131415161718192021222324252627282930313233343536373839404142434445464748495051525354555657585960616263646566676869707172737475767778798081828384858687\n",
      "0.21199552197338772\n",
      "Now in loop: nu=10, W=250...0123456789101112131415161718192021222324252627282930313233343536373839404142434445464748495051525354555657585960616263646566676869707172737475767778798081828384858687\n",
      "0.20408691479112182\n",
      "Now in loop: nu=50, W=250...0123456789101112131415161718192021222324252627282930313233343536373839404142434445464748495051525354555657585960616263646566676869707172737475767778798081828384858687\n",
      "0.21113969310475644\n",
      "Now in loop: nu=100, W=250...0123456789101112131415161718192021222324252627282930313233343536373839404142434445464748495051525354555657585960616263646566676869707172737475767778798081828384858687\n",
      "0.21318686038807877\n",
      "Now in loop: nu=300, W=250...0123456789101112131415161718192021222324252627282930313233343536373839404142434445464748495051525354555657585960616263646566676869707172737475767778798081828384858687\n",
      "0.2119174032588159\n",
      "Now in loop: nu=500, W=250...0123456789101112131415161718192021222324252627282930313233343536373839404142434445464748495051525354555657585960616263646566676869707172737475767778798081828384858687\n",
      "0.21213215995251833\n",
      "Now in loop: nu=1000, W=250...0123456789101112131415161718192021222324252627282930313233343536373839404142434445464748495051525354555657585960616263646566676869707172737475767778798081828384858687\n",
      "0.2134883397975362\n",
      "Now in loop: nu=2000, W=250...0123456789101112131415161718192021222324252627282930313233343536373839404142434445464748495051525354555657585960616263646566676869707172737475767778798081828384858687\n",
      "0.21258263862725488\n",
      "Now in loop: nu=10, W=350...0123456789101112131415161718192021222324252627282930313233343536373839404142434445464748495051525354555657585960616263646566676869707172737475767778798081828384858687\n",
      "0.21523104558319137\n",
      "Now in loop: nu=50, W=350...0123456789101112131415161718192021222324252627282930313233343536373839404142434445464748495051525354555657585960616263646566676869707172737475767778798081828384858687\n",
      "0.21684450620533416\n",
      "Now in loop: nu=100, W=350...0123456789101112131415161718192021222324252627282930313233343536373839404142434445464748495051525354555657585960616263646566676869707172737475767778798081828384858687\n",
      "0.21760727294158622\n",
      "Now in loop: nu=300, W=350...0123456789101112131415161718192021222324252627282930313233343536373839404142434445464748495051525354555657585960616263646566676869707172737475767778798081828384858687\n",
      "0.21654489517540057\n",
      "Now in loop: nu=500, W=350...0123456789101112131415161718192021222324252627282930313233343536373839404142434445464748495051525354555657585960616263646566676869707172737475767778798081828384858687\n",
      "0.2176267456972637\n",
      "Now in loop: nu=1000, W=350...0123456789101112131415161718192021222324252627282930313233343536373839404142434445464748495051525354555657585960616263646566676869707172737475767778798081828384858687\n",
      "0.21676614129059704\n",
      "Now in loop: nu=2000, W=350...0123456789101112131415161718192021222324252627282930313233343536373839404142434445464748495051525354555657585960616263646566676869707172737475767778798081828384858687\n",
      "0.21655455351707975\n",
      "CPU times: user 1d 13h 40min 40s, sys: 9.03 s, total: 1d 13h 40min 49s\n",
      "Wall time: 1d 13h 41min 4s\n"
     ]
    },
    {
     "data": {
      "text/plain": [
       "{(11, 10, 6.08182692527771): 0.21653586386097246,\n",
       " (11, 50, 6.186298847198486): 0.2159612667270556,\n",
       " (11, 100, 6.249415636062622): 0.2159258954964301,\n",
       " (11, 300, 6.437977075576782): 0.21601094837111076,\n",
       " (11, 500, 6.673792362213135): 0.21588976117733105,\n",
       " (11, 1000, 7.177420377731323): 0.2158477481688239,\n",
       " (11, 2000, 8.314916849136353): 0.21602099716189818,\n",
       " (50, 10, 6.211475372314453): 0.2208327508744225,\n",
       " (50, 50, 6.156733751296997): 0.21688401575704033,\n",
       " (50, 100, 6.271738290786743): 0.21713689399419558,\n",
       " (50, 300, 6.661715507507324): 0.2169583562739389,\n",
       " (50, 500, 7.071345329284668): 0.21705302327777828,\n",
       " (50, 1000, 7.878546476364136): 0.2168723570799874,\n",
       " (50, 2000, 9.629072189331055): 0.2168806951517338,\n",
       " (125, 10, 6.243086814880371): 0.21950312175433925,\n",
       " (125, 50, 7.419919013977051): 0.21871896262431625,\n",
       " (125, 100, 9.091248989105225): 0.21932637432288826,\n",
       " (125, 300, 13.768548727035522): 0.2188838038436978,\n",
       " (125, 500, 18.216801166534424): 0.21889108211971522,\n",
       " (125, 1000, 27.388994932174683): 0.21989037867290892,\n",
       " (125, 2000, 46.88064002990723): 0.21832212202934953,\n",
       " (200, 10, 6.572232961654663): 0.2084700793062482,\n",
       " (200, 50, 9.864881992340088): 0.20922146465952898,\n",
       " (200, 100, 13.089139223098755): 0.21068975499977488,\n",
       " (200, 300, 27.669642686843872): 0.21335649434470855,\n",
       " (200, 500, 41.27638816833496): 0.21196765181074861,\n",
       " (200, 1000, 77.81784987449646): 0.21077607656511835,\n",
       " (200, 2000, 148.13904452323914): 0.21199552197338772,\n",
       " (250, 10, 7.160171747207642): 0.20408691479112182,\n",
       " (250, 50, 10.756088256835938): 0.21113969310475644,\n",
       " (250, 100, 15.797255039215088): 0.21318686038807877,\n",
       " (250, 300, 35.097336292266846): 0.2119174032588159,\n",
       " (250, 500, 57.340994358062744): 0.21213215995251833,\n",
       " (250, 1000, 103.03070640563965): 0.2134883397975362,\n",
       " (250, 2000, 200.58514738082886): 0.21258263862725488,\n",
       " (350, 10, 7.403314828872681): 0.21523104558319137,\n",
       " (350, 50, 14.084933280944824): 0.21684450620533416,\n",
       " (350, 100, 22.78645157814026): 0.21760727294158622,\n",
       " (350, 300, 58.115196228027344): 0.21654489517540057,\n",
       " (350, 500, 90.43794584274292): 0.2176267456972637,\n",
       " (350, 1000, 182.12003254890442): 0.21676614129059704,\n",
       " (350, 2000, 347.4906895160675): 0.21655455351707975}"
      ]
     },
     "execution_count": 18,
     "metadata": {},
     "output_type": "execute_result"
    }
   ],
   "source": [
    "%%time\n",
    "from sklearn.metrics import mean_absolute_percentage_error # need sklearn 0.24\n",
    "\n",
    "nu = np.array([10, 50, 100, 300, 500, 1000, 2000])\n",
    "W = np.array([11, 50, 125, 200, 250, 350]) #not doing 500 and 700\n",
    "\n",
    "\n",
    "cv_result = dict()\n",
    "\n",
    "\n",
    "for b in W:\n",
    "    for n in nu:\n",
    "        print('Now in loop: nu={:d}, W={:d}...'.format(n, b), end='')\n",
    "        MRE = np.zeros(len(stock_list))\n",
    "        for i, ticker in enumerate(stock_list):\n",
    "            start = time()\n",
    "            \n",
    "            model = GradientBoostingRegressor(n_estimators=n)\n",
    "            \n",
    "            print(i, end='') #visualize progress\n",
    "            cor11=px[ticker].rolling(11).corr(px)\n",
    "            cor50=px[ticker].rolling(50).corr(px)\n",
    "            cor200=px[ticker].rolling(200).corr(px)\n",
    "\n",
    "\n",
    "            temp1=pd.merge(px,cor11*ma11, left_index=True, right_index=True, suffixes=['_px', '_11'])\n",
    "            temp2=pd.merge(temp1,cor50*ma50, left_index=True, right_index=True, suffixes=[None, None] )\n",
    "            X=pd.merge(temp2,cor200*ma200, left_index=True, right_index=True, suffixes=['_50', '_200'])\n",
    "            X=X.dropna() #some top rows have Nan due to rolling averge calculations\n",
    "\n",
    "            Earnings_info=pd.DataFrame({'Announcement_dt':earn_dates[ticker].dropna(), 'EPS':EPS[ticker].dropna(), 'est_EPS':est_EPS[ticker].dropna()})\n",
    "            Earnings_info=Earnings_info.set_index('Announcement_dt')\n",
    "\n",
    "            #X and y_extra_info shall hv same no. of rows\n",
    "            y_extra_info=pd.merge(pd.DataFrame(index=X.index),Earnings_info, left_index=True, right_index=True, how='left')\n",
    "            y_extra_info=y_extra_info.fillna(method='bfill') #fill NaN with next earnings data, there will be some Nan\n",
    "                                                #remaining at the end since earnings not out yet. We\n",
    "                                                #won't be using those rows\n",
    "\n",
    "\n",
    "            #cross validation period\n",
    "            start_date = '2013-02-08'\n",
    "            end_date = '2015-02-09'\n",
    "\n",
    "            params = {\n",
    "                'start_date': start_date, \n",
    "                'end_date': end_date, \n",
    "                'Info': Earnings_info, \n",
    "                'X_all': X, \n",
    "                'y_all': y_extra_info, \n",
    "                's': ticker, \n",
    "                'W': b,\n",
    "                'model': model\n",
    "            }\n",
    "\n",
    "            y_pred = my_CorrelNowcast(**params)\n",
    "\n",
    "            MRE[i] = mean_absolute_percentage_error(y_extra_info.loc[start_date:end_date,'EPS'], y_pred)\n",
    "\n",
    "            time_taken = time() - start\n",
    "            \n",
    "        cv_result[(b, n, time_taken)] = np.mean(MRE)\n",
    "        \n",
    "        print('')\n",
    "        print(np.mean(MRE))\n",
    "\n",
    "\n",
    "cv_result"
   ]
  },
  {
   "cell_type": "markdown",
   "metadata": {},
   "source": [
    "{(11, 10, 6.08182692527771): 0.21653586386097246,\n",
    " (11, 50, 6.186298847198486): 0.2159612667270556,\n",
    " (11, 100, 6.249415636062622): 0.2159258954964301,\n",
    " (11, 300, 6.437977075576782): 0.21601094837111076,\n",
    " (11, 500, 6.673792362213135): 0.21588976117733105,\n",
    " (11, 1000, 7.177420377731323): 0.2158477481688239,\n",
    " (11, 2000, 8.314916849136353): 0.21602099716189818,\n",
    " (50, 10, 6.211475372314453): 0.2208327508744225,\n",
    " (50, 50, 6.156733751296997): 0.21688401575704033,\n",
    " (50, 100, 6.271738290786743): 0.21713689399419558,\n",
    " (50, 300, 6.661715507507324): 0.2169583562739389,\n",
    " (50, 500, 7.071345329284668): 0.21705302327777828,\n",
    " (50, 1000, 7.878546476364136): 0.2168723570799874,\n",
    " (50, 2000, 9.629072189331055): 0.2168806951517338,\n",
    " (125, 10, 6.243086814880371): 0.21950312175433925,\n",
    " (125, 50, 7.419919013977051): 0.21871896262431625,\n",
    " (125, 100, 9.091248989105225): 0.21932637432288826,\n",
    " (125, 300, 13.768548727035522): 0.2188838038436978,\n",
    " (125, 500, 18.216801166534424): 0.21889108211971522,\n",
    " (125, 1000, 27.388994932174683): 0.21989037867290892,\n",
    " (125, 2000, 46.88064002990723): 0.21832212202934953,\n",
    " (200, 10, 6.572232961654663): 0.2084700793062482,\n",
    " (200, 50, 9.864881992340088): 0.20922146465952898,\n",
    " (200, 100, 13.089139223098755): 0.21068975499977488,\n",
    " (200, 300, 27.669642686843872): 0.21335649434470855,\n",
    " (200, 500, 41.27638816833496): 0.21196765181074861,\n",
    " (200, 1000, 77.81784987449646): 0.21077607656511835,\n",
    " (200, 2000, 148.13904452323914): 0.21199552197338772,\n",
    " (250, 10, 7.160171747207642): 0.20408691479112182,\n",
    " (250, 50, 10.756088256835938): 0.21113969310475644,\n",
    " (250, 100, 15.797255039215088): 0.21318686038807877,\n",
    " (250, 300, 35.097336292266846): 0.2119174032588159,\n",
    " (250, 500, 57.340994358062744): 0.21213215995251833,\n",
    " (250, 1000, 103.03070640563965): 0.2134883397975362,\n",
    " (250, 2000, 200.58514738082886): 0.21258263862725488,\n",
    " (350, 10, 7.403314828872681): 0.21523104558319137,\n",
    " (350, 50, 14.084933280944824): 0.21684450620533416,\n",
    " (350, 100, 22.78645157814026): 0.21760727294158622,\n",
    " (350, 300, 58.115196228027344): 0.21654489517540057,\n",
    " (350, 500, 90.43794584274292): 0.2176267456972637,\n",
    " (350, 1000, 182.12003254890442): 0.21676614129059704,\n",
    " (350, 2000, 347.4906895160675): 0.21655455351707975}"
   ]
  },
  {
   "cell_type": "code",
   "execution_count": 38,
   "metadata": {},
   "outputs": [
    {
     "name": "stdout",
     "output_type": "stream",
     "text": [
      "Now in loop: nu=10, W=11...0123456789101112131415161718192021222324252627282930313233343536373839404142434445464748495051525354555657585960616263646566676869707172737475767778798081828384858687\n",
      "CPU times: user 55min 24s, sys: 161 ms, total: 55min 24s\n",
      "Wall time: 55min 25s\n"
     ]
    },
    {
     "data": {
      "text/plain": [
       "{11: 0.21839646295076245}"
      ]
     },
     "execution_count": 38,
     "metadata": {},
     "output_type": "execute_result"
    }
   ],
   "source": [
    "%%time\n",
    "from sklearn.metrics import mean_absolute_percentage_error # need sklearn 0.24\n",
    "\n",
    "nu=np.array([10, 100, 1000, 3000, 5000, 10000])\n",
    "W=np.array([11, 50, 125, 200, 250, 350]) #not doing 500 and 700\n",
    "\n",
    "W = [11]\n",
    "\n",
    "cv_result=dict()\n",
    "\n",
    "model = LassoCV()\n",
    "\n",
    "for b in W:\n",
    "    print('Now in loop: nu={:d}, W={:d}...'.format(a,b), end='')\n",
    "    MRE = np.zeros(len(stock_list))\n",
    "    for i, ticker in enumerate(stock_list):\n",
    "        start = time()\n",
    "        print(i, end='') #visualize progress\n",
    "        cor11=px[ticker].rolling(11).corr(px)\n",
    "        cor50=px[ticker].rolling(50).corr(px)\n",
    "        cor200=px[ticker].rolling(200).corr(px)\n",
    "\n",
    "\n",
    "        temp1=pd.merge(px,cor11*ma11, left_index=True, right_index=True, suffixes=['_px', '_11'])\n",
    "        temp2=pd.merge(temp1,cor50*ma50, left_index=True, right_index=True, suffixes=[None, None] )\n",
    "        X=pd.merge(temp2,cor200*ma200, left_index=True, right_index=True, suffixes=['_50', '_200'])\n",
    "        X=X.dropna() #some top rows have Nan due to rolling averge calculations\n",
    "\n",
    "        Earnings_info=pd.DataFrame({'Announcement_dt':earn_dates[ticker].dropna(),\n",
    "                              'EPS':EPS[ticker].dropna(),\n",
    "                              'est_EPS':est_EPS[ticker].dropna()})\n",
    "        Earnings_info=Earnings_info.set_index('Announcement_dt')\n",
    "\n",
    "        #X and y_extra_info shall hv same no. of rows\n",
    "        y_extra_info=pd.merge(pd.DataFrame(index=X.index),Earnings_info, left_index=True, right_index=True, how='left')\n",
    "        y_extra_info=y_extra_info.fillna(method='bfill') #fill NaN with next earnings data, there will be some Nan\n",
    "                                            #remaining at the end since earnings not out yet. We\n",
    "                                            #won't be using those rows\n",
    "\n",
    "\n",
    "        #cross validation period\n",
    "        start_date = '2013-02-08'\n",
    "        end_date = '2015-02-09'\n",
    "\n",
    "        params = {\n",
    "            'start_date': start_date, \n",
    "            'end_date': end_date, \n",
    "            'Info': Earnings_info, \n",
    "            'X_all': X, \n",
    "            'y_all': y_extra_info, \n",
    "            's': ticker, \n",
    "            'W': b,\n",
    "            'model': model\n",
    "        }\n",
    "\n",
    "        y_pred = my_CorrelNowcast(**params)\n",
    "\n",
    "        MRE[i] = mean_absolute_percentage_error(y_extra_info.loc[start_date:end_date,'EPS'], y_pred)\n",
    "\n",
    "    cv_result[b]=np.mean(MRE)\n",
    "\n",
    "    print('')   \n",
    "            \n",
    "\n",
    "cv_result"
   ]
  },
  {
   "cell_type": "code",
   "execution_count": null,
   "metadata": {},
   "outputs": [],
   "source": []
  },
  {
   "cell_type": "markdown",
   "metadata": {},
   "source": [
    " cv_result saved as text here:{(10, 11): 0.2187638191270434,\n",
    " (10, 50): 0.22906451942601178,\n",
    " (10, 125): 0.31202466937432827,\n",
    " (10, 200): 0.3825881964232682,\n",
    " (10, 250): 0.33047717422058687,\n",
    " (10, 350): 0.3705547594743095,\n",
    " (100, 11): 0.21851150849725237,\n",
    " (100, 50): 0.22558408007391287,\n",
    " (100, 125): 0.26659903572682564,\n",
    " (100, 200): 0.2640797603053457,\n",
    " (100, 250): 0.2703969553958662,\n",
    " (100, 350): 0.29776815242467924,\n",
    " (1000, 11): 0.21763164046085368,\n",
    " (1000, 50): 0.22069437118027563,\n",
    " (1000, 125): 0.23746854866082315,\n",
    " (1000, 200): 0.22573256964428604,\n",
    " (1000, 250): 0.23435294423273242,\n",
    " (1000, 350): 0.25400878483123424,\n",
    " (3000, 11): 0.21708701575300682,\n",
    " (3000, 50): 0.21948953352799538,\n",
    " (3000, 125): 0.22872920667907815,\n",
    " (3000, 200): 0.2225562088940296,\n",
    " (3000, 250): 0.2264492982777717,\n",
    " (3000, 350): 0.24119754914558456,\n",
    " (5000, 11): 0.21686743840521164,\n",
    " (5000, 50): 0.21898640741750486,\n",
    " (5000, 125): 0.22568012060609888,\n",
    " (5000, 200): 0.22240374315178094,\n",
    " (5000, 250): 0.2248758424106235,\n",
    " (5000, 350): 0.23697964201516844,\n",
    " (10000, 11): 0.21669252019829163,\n",
    " (10000, 50): 0.21852854901945928,\n",
    " (10000, 125): 0.2232050513633187,\n",
    " (10000, 200): 0.22266263741956352,\n",
    " (10000, 250): 0.2246121264495324,\n",
    " (10000, 350): 0.2330335124678897}"
   ]
  },
  {
   "cell_type": "code",
   "execution_count": 34,
   "metadata": {},
   "outputs": [],
   "source": [
    "table_text = {(10, 11): 0.2187638191270434,\n",
    " (10, 50): 0.22906451942601178,\n",
    " (10, 125): 0.31202466937432827,\n",
    " (10, 200): 0.3825881964232682,\n",
    " (10, 250): 0.33047717422058687,\n",
    " (10, 350): 0.3705547594743095,\n",
    " (100, 11): 0.21851150849725237,\n",
    " (100, 50): 0.22558408007391287,\n",
    " (100, 125): 0.26659903572682564,\n",
    " (100, 200): 0.2640797603053457,\n",
    " (100, 250): 0.2703969553958662,\n",
    " (100, 350): 0.29776815242467924,\n",
    " (1000, 11): 0.21763164046085368,\n",
    " (1000, 50): 0.22069437118027563,\n",
    " (1000, 125): 0.23746854866082315,\n",
    " (1000, 200): 0.22573256964428604,\n",
    " (1000, 250): 0.23435294423273242,\n",
    " (1000, 350): 0.25400878483123424,\n",
    " (3000, 11): 0.21708701575300682,\n",
    " (3000, 50): 0.21948953352799538,\n",
    " (3000, 125): 0.22872920667907815,\n",
    " (3000, 200): 0.2225562088940296,\n",
    " (3000, 250): 0.2264492982777717,\n",
    " (3000, 350): 0.24119754914558456,\n",
    " (5000, 11): 0.21686743840521164,\n",
    " (5000, 50): 0.21898640741750486,\n",
    " (5000, 125): 0.22568012060609888,\n",
    " (5000, 200): 0.22240374315178094,\n",
    " (5000, 250): 0.2248758424106235,\n",
    " (5000, 350): 0.23697964201516844,\n",
    " (10000, 11): 0.21669252019829163,\n",
    " (10000, 50): 0.21852854901945928,\n",
    " (10000, 125): 0.2232050513633187,\n",
    " (10000, 200): 0.22266263741956352,\n",
    " (10000, 250): 0.2246121264495324,\n",
    " (10000, 350): 0.2330335124678897}"
   ]
  },
  {
   "cell_type": "code",
   "execution_count": 36,
   "metadata": {},
   "outputs": [
    {
     "name": "stdout",
     "output_type": "stream",
     "text": [
      "(10, 11) 0.2188\n",
      "(10, 50) 0.2291\n",
      "(10, 125) 0.312\n",
      "(10, 200) 0.3826\n",
      "(10, 250) 0.3305\n",
      "(10, 350) 0.3706\n",
      "(100, 11) 0.2185\n",
      "(100, 50) 0.2256\n",
      "(100, 125) 0.2666\n",
      "(100, 200) 0.2641\n",
      "(100, 250) 0.2704\n",
      "(100, 350) 0.2978\n",
      "(1000, 11) 0.2176\n",
      "(1000, 50) 0.2207\n",
      "(1000, 125) 0.2375\n",
      "(1000, 200) 0.2257\n",
      "(1000, 250) 0.2344\n",
      "(1000, 350) 0.254\n",
      "(3000, 11) 0.2171\n",
      "(3000, 50) 0.2195\n",
      "(3000, 125) 0.2287\n",
      "(3000, 200) 0.2226\n",
      "(3000, 250) 0.2264\n",
      "(3000, 350) 0.2412\n",
      "(5000, 11) 0.2169\n",
      "(5000, 50) 0.219\n",
      "(5000, 125) 0.2257\n",
      "(5000, 200) 0.2224\n",
      "(5000, 250) 0.2249\n",
      "(5000, 350) 0.237\n",
      "(10000, 11) 0.2167\n",
      "(10000, 50) 0.2185\n",
      "(10000, 125) 0.2232\n",
      "(10000, 200) 0.2227\n",
      "(10000, 250) 0.2246\n",
      "(10000, 350) 0.233\n"
     ]
    }
   ],
   "source": [
    "for thing in table_text:\n",
    "    print(thing, round(table_text[thing], 4))"
   ]
  },
  {
   "cell_type": "code",
   "execution_count": 39,
   "metadata": {},
   "outputs": [
    {
     "data": {
      "text/plain": [
       "11"
      ]
     },
     "execution_count": 39,
     "metadata": {},
     "output_type": "execute_result"
    }
   ],
   "source": [
    "min(cv_result, key=cv_result.get) #run this if you've run the cv"
   ]
  },
  {
   "cell_type": "markdown",
   "metadata": {},
   "source": [
    "Best parameter combo with lowest MRE in cv: nu=10000, W=11"
   ]
  },
  {
   "cell_type": "markdown",
   "metadata": {},
   "source": [
    "### Run model on test set"
   ]
  },
  {
   "cell_type": "code",
   "execution_count": 19,
   "metadata": {},
   "outputs": [],
   "source": [
    "b = 250\n",
    "n = 10"
   ]
  },
  {
   "cell_type": "code",
   "execution_count": 20,
   "metadata": {},
   "outputs": [],
   "source": [
    "model = GradientBoostingRegressor(n_estimators=n)"
   ]
  },
  {
   "cell_type": "code",
   "execution_count": 21,
   "metadata": {},
   "outputs": [
    {
     "name": "stdout",
     "output_type": "stream",
     "text": [
      "Index running...\n",
      "0 1 2 3 4 5 6 7 8 9 10 11 12 13 14 15 16 17 18 19 20 21 22 23 24 25 26 27 28 29 30 31 32 33 34 35 36 37 38 39 40 41 42 43 44 45 46 47 48 49 50 51 52 53 54 55 56 57 58 59 60 61 62 63 64 65 66 67 68 69 70 71 72 73 74 75 76 77 78 79 80 81 82 83 84 85 86 87 \n",
      "Test period: 2015-03-09 to 2019-03-11\n",
      "MRE from model: 0.23051042522774975\n",
      "MRE from analyst estimates: 0.11550951150632237\n",
      "CPU times: user 19min 27s, sys: 180 ms, total: 19min 27s\n",
      "Wall time: 19min 27s\n"
     ]
    }
   ],
   "source": [
    "%%time\n",
    "from sklearn.metrics import mean_absolute_percentage_error # need sklearn 0.24\n",
    "\n",
    "MRE_model=np.zeros(len(stock_list))\n",
    "MRE_bbg_est=np.zeros(len(stock_list))\n",
    "print('Index running...')\n",
    "for i, ticker in enumerate(stock_list):\n",
    "    print(i,'',end='') #visualize progress\n",
    "    cor11=px[ticker].rolling(11).corr(px)\n",
    "    cor50=px[ticker].rolling(50).corr(px)\n",
    "    cor200=px[ticker].rolling(200).corr(px)\n",
    "\n",
    "    temp1=pd.merge(px,cor11*ma11, left_index=True, right_index=True, suffixes=['_px', '_11'])\n",
    "    temp2=pd.merge(temp1,cor50*ma50, left_index=True, right_index=True, suffixes=[None, None] )\n",
    "    X=pd.merge(temp2,cor200*ma200, left_index=True, right_index=True , suffixes=['_50', '_200'])\n",
    "    X=X.dropna() #some top rows have Nan due to rolling averge calculations\n",
    "\n",
    "    Earnings_info=pd.DataFrame({'Announcement_dt':earn_dates[ticker].dropna(),\n",
    "                          'EPS':EPS[ticker].dropna(),\n",
    "                          'est_EPS':est_EPS[ticker].dropna()})\n",
    "    Earnings_info=Earnings_info.set_index('Announcement_dt')\n",
    "\n",
    "    #X and y_extra_info shall hv same no. of rows\n",
    "    y_extra_info=pd.merge(pd.DataFrame(index=X.index),Earnings_info, left_index=True, right_index=True, how='left')\n",
    "    y_extra_info=y_extra_info.fillna(method='bfill') #fill NaN with next earnings data, there will be some Nan\n",
    "                                        #remaining at the end since earnings not out yet. We\n",
    "                                        #won't be using those rows\n",
    "    #test data period - 4years\n",
    "    start_date='2015-03-09' #start date at least 11 trading days after cv period\n",
    "    end_date='2019-03-11'\n",
    "    \n",
    "    params = {\n",
    "            'start_date': start_date, \n",
    "            'end_date': end_date, \n",
    "            'Info': Earnings_info, \n",
    "            'X_all': X, \n",
    "            'y_all': y_extra_info, \n",
    "            's': ticker, \n",
    "            'W': b,\n",
    "            'model': model\n",
    "        }\n",
    "\n",
    "    y_pred=my_CorrelNowcast(**params)\n",
    "    MRE_model[i]=mean_absolute_percentage_error(y_extra_info.loc[start_date:end_date,'EPS'], y_pred)\n",
    "    MRE_bbg_est[i]=mean_absolute_percentage_error(y_extra_info.loc[start_date:end_date,'EPS'],\n",
    "                                                  y_extra_info.loc[start_date:end_date,'est_EPS'])\n",
    "    \n",
    "\n",
    "print('\\nTest period: 2015-03-09 to 2019-03-11')\n",
    "print('MRE from model:', np.mean(MRE_model))\n",
    "print('MRE from analyst estimates:', np.mean(MRE_bbg_est))\n",
    "\n",
    "\n",
    "\n"
   ]
  },
  {
   "cell_type": "code",
   "execution_count": 19,
   "metadata": {},
   "outputs": [],
   "source": [
    "b = 11"
   ]
  },
  {
   "cell_type": "code",
   "execution_count": 20,
   "metadata": {},
   "outputs": [],
   "source": [
    "from sklearn.linear_model import RidgeCV"
   ]
  },
  {
   "cell_type": "code",
   "execution_count": 21,
   "metadata": {},
   "outputs": [],
   "source": [
    "model = RidgeCV()"
   ]
  },
  {
   "cell_type": "code",
   "execution_count": 22,
   "metadata": {},
   "outputs": [
    {
     "name": "stdout",
     "output_type": "stream",
     "text": [
      "Index running...\n",
      "0 1 2 3 4 5 6 7 8 9 10 11 12 13 14 15 16 17 18 19 20 21 22 23 24 25 26 27 28 29 30 31 32 33 34 35 36 37 38 39 40 41 42 43 44 45 46 47 48 49 50 51 52 53 54 55 56 57 58 59 60 61 62 63 64 65 66 67 68 69 70 71 72 73 74 75 76 77 78 79 80 81 82 83 84 85 86 87 \n",
      "Test period: 2015-03-09 to 2019-03-11\n",
      "MRE from model: 0.23680006074868834\n",
      "MRE from analyst estimates: 0.11550951150632237\n",
      "CPU times: user 17min 6s, sys: 208 ms, total: 17min 6s\n",
      "Wall time: 17min 6s\n"
     ]
    }
   ],
   "source": [
    "%%time\n",
    "from sklearn.metrics import mean_absolute_percentage_error # need sklearn 0.24\n",
    "\n",
    "MRE_model=np.zeros(len(stock_list))\n",
    "MRE_bbg_est=np.zeros(len(stock_list))\n",
    "print('Index running...')\n",
    "for i, ticker in enumerate(stock_list):\n",
    "    print(i,'',end='') #visualize progress\n",
    "    cor11=px[ticker].rolling(11).corr(px)\n",
    "    cor50=px[ticker].rolling(50).corr(px)\n",
    "    cor200=px[ticker].rolling(200).corr(px)\n",
    "\n",
    "    temp1=pd.merge(px,cor11*ma11, left_index=True, right_index=True, suffixes=['_px', '_11'])\n",
    "    temp2=pd.merge(temp1,cor50*ma50, left_index=True, right_index=True, suffixes=[None, None] )\n",
    "    X=pd.merge(temp2,cor200*ma200, left_index=True, right_index=True , suffixes=['_50', '_200'])\n",
    "    X=X.dropna() #some top rows have Nan due to rolling averge calculations\n",
    "\n",
    "    Earnings_info=pd.DataFrame({'Announcement_dt':earn_dates[ticker].dropna(),\n",
    "                          'EPS':EPS[ticker].dropna(),\n",
    "                          'est_EPS':est_EPS[ticker].dropna()})\n",
    "    Earnings_info=Earnings_info.set_index('Announcement_dt')\n",
    "\n",
    "    #X and y_extra_info shall hv same no. of rows\n",
    "    y_extra_info=pd.merge(pd.DataFrame(index=X.index),Earnings_info, left_index=True, right_index=True, how='left')\n",
    "    y_extra_info=y_extra_info.fillna(method='bfill') #fill NaN with next earnings data, there will be some Nan\n",
    "                                        #remaining at the end since earnings not out yet. We\n",
    "                                        #won't be using those rows\n",
    "    #test data period - 4years\n",
    "    start_date='2015-03-09' #start date at least 11 trading days after cv period\n",
    "    end_date='2019-03-11'\n",
    "    \n",
    "    params = {\n",
    "            'start_date': start_date, \n",
    "            'end_date': end_date, \n",
    "            'Info': Earnings_info, \n",
    "            'X_all': X, \n",
    "            'y_all': y_extra_info, \n",
    "            's': ticker, \n",
    "            'W': b,\n",
    "            'model': model\n",
    "        }\n",
    "\n",
    "    y_pred=my_CorrelNowcast(**params)\n",
    "    MRE_model[i]=mean_absolute_percentage_error(y_extra_info.loc[start_date:end_date,'EPS'], y_pred)\n",
    "    MRE_bbg_est[i]=mean_absolute_percentage_error(y_extra_info.loc[start_date:end_date,'EPS'],\n",
    "                                                  y_extra_info.loc[start_date:end_date,'est_EPS'])\n",
    "    \n",
    "\n",
    "print('\\nTest period: 2015-03-09 to 2019-03-11')\n",
    "print('MRE from model:', np.mean(MRE_model))\n",
    "print('MRE from analyst estimates:', np.mean(MRE_bbg_est))\n",
    "\n",
    "\n"
   ]
  },
  {
   "cell_type": "code",
   "execution_count": 23,
   "metadata": {},
   "outputs": [],
   "source": [
    "model = LassoCV()"
   ]
  },
  {
   "cell_type": "code",
   "execution_count": 24,
   "metadata": {},
   "outputs": [
    {
     "name": "stdout",
     "output_type": "stream",
     "text": [
      "Index running...\n",
      "0 1 2 3 4 5 6 7 8 9 10 11 12 13 14 15 16 17 18 19 20 21 22 23 24 25 26 27 28 29 30 31 32 33 34 35 36 37 38 39 40 41 42 43 44 45 46 47 48 49 50 51 52 53 54 55 56 57 58 59 60 61 62 63 64 65 66 67 68 69 70 71 72 73 74 75 76 77 78 79 80 81 82 83 84 85 86 87 \n",
      "Test period: 2015-03-09 to 2019-03-11\n",
      "MRE from model: 0.2368778361217034\n",
      "MRE from analyst estimates: 0.11550951150632237\n",
      "CPU times: user 1h 49min, sys: 200 ms, total: 1h 49min\n",
      "Wall time: 1h 49min 1s\n"
     ]
    }
   ],
   "source": [
    "%%time\n",
    "from sklearn.metrics import mean_absolute_percentage_error # need sklearn 0.24\n",
    "\n",
    "MRE_model=np.zeros(len(stock_list))\n",
    "MRE_bbg_est=np.zeros(len(stock_list))\n",
    "print('Index running...')\n",
    "for i, ticker in enumerate(stock_list):\n",
    "    print(i,'',end='') #visualize progress\n",
    "    cor11=px[ticker].rolling(11).corr(px)\n",
    "    cor50=px[ticker].rolling(50).corr(px)\n",
    "    cor200=px[ticker].rolling(200).corr(px)\n",
    "\n",
    "    temp1=pd.merge(px,cor11*ma11, left_index=True, right_index=True, suffixes=['_px', '_11'])\n",
    "    temp2=pd.merge(temp1,cor50*ma50, left_index=True, right_index=True, suffixes=[None, None] )\n",
    "    X=pd.merge(temp2,cor200*ma200, left_index=True, right_index=True , suffixes=['_50', '_200'])\n",
    "    X=X.dropna() #some top rows have Nan due to rolling averge calculations\n",
    "\n",
    "    Earnings_info=pd.DataFrame({'Announcement_dt':earn_dates[ticker].dropna(),\n",
    "                          'EPS':EPS[ticker].dropna(),\n",
    "                          'est_EPS':est_EPS[ticker].dropna()})\n",
    "    Earnings_info=Earnings_info.set_index('Announcement_dt')\n",
    "\n",
    "    #X and y_extra_info shall hv same no. of rows\n",
    "    y_extra_info=pd.merge(pd.DataFrame(index=X.index),Earnings_info, left_index=True, right_index=True, how='left')\n",
    "    y_extra_info=y_extra_info.fillna(method='bfill') #fill NaN with next earnings data, there will be some Nan\n",
    "                                        #remaining at the end since earnings not out yet. We\n",
    "                                        #won't be using those rows\n",
    "    #test data period - 4years\n",
    "    start_date='2015-03-09' #start date at least 11 trading days after cv period\n",
    "    end_date='2019-03-11'\n",
    "    \n",
    "    params = {\n",
    "            'start_date': start_date, \n",
    "            'end_date': end_date, \n",
    "            'Info': Earnings_info, \n",
    "            'X_all': X, \n",
    "            'y_all': y_extra_info, \n",
    "            's': ticker, \n",
    "            'W': b,\n",
    "            'model': model\n",
    "        }\n",
    "\n",
    "    y_pred=my_CorrelNowcast(**params)\n",
    "    MRE_model[i]=mean_absolute_percentage_error(y_extra_info.loc[start_date:end_date,'EPS'], y_pred)\n",
    "    MRE_bbg_est[i]=mean_absolute_percentage_error(y_extra_info.loc[start_date:end_date,'EPS'],\n",
    "                                                  y_extra_info.loc[start_date:end_date,'est_EPS'])\n",
    "    \n",
    "\n",
    "print('\\nTest period: 2015-03-09 to 2019-03-11')\n",
    "print('MRE from model:', np.mean(MRE_model))\n",
    "print('MRE from analyst estimates:', np.mean(MRE_bbg_est))\n",
    "\n"
   ]
  },
  {
   "cell_type": "code",
   "execution_count": 25,
   "metadata": {},
   "outputs": [],
   "source": [
    "from sklearn.ensemble import RandomForestRegressor"
   ]
  },
  {
   "cell_type": "code",
   "execution_count": 26,
   "metadata": {},
   "outputs": [],
   "source": [
    "model = RandomForestRegressor()\n",
    "b = 11"
   ]
  },
  {
   "cell_type": "code",
   "execution_count": 27,
   "metadata": {},
   "outputs": [
    {
     "name": "stdout",
     "output_type": "stream",
     "text": [
      "Index running...\n",
      "0 1 2 3 4 5 6 7 8 9 10 11 12 13 14 15 16 17 18 19 20 21 22 23 24 25 26 27 28 29 30 31 32 33 34 35 36 37 38 39 40 41 42 43 44 45 46 47 48 49 50 51 52 53 54 55 56 57 58 59 60 61 62 63 64 65 66 67 68 69 70 71 72 73 74 75 76 77 78 79 80 81 82 83 84 85 86 87 \n",
      "Test period: 2015-03-09 to 2019-03-11\n",
      "MRE from model: 0.23677090315990598\n",
      "MRE from analyst estimates: 0.11550951150632237\n",
      "CPU times: user 25min 53s, sys: 1.14 s, total: 25min 54s\n",
      "Wall time: 25min 54s\n"
     ]
    }
   ],
   "source": [
    "%%time\n",
    "from sklearn.metrics import mean_absolute_percentage_error # need sklearn 0.24\n",
    "\n",
    "MRE_model=np.zeros(len(stock_list))\n",
    "MRE_bbg_est=np.zeros(len(stock_list))\n",
    "print('Index running...')\n",
    "for i, ticker in enumerate(stock_list):\n",
    "    print(i,'',end='') #visualize progress\n",
    "    cor11=px[ticker].rolling(11).corr(px)\n",
    "    cor50=px[ticker].rolling(50).corr(px)\n",
    "    cor200=px[ticker].rolling(200).corr(px)\n",
    "\n",
    "    temp1=pd.merge(px,cor11*ma11, left_index=True, right_index=True, suffixes=['_px', '_11'])\n",
    "    temp2=pd.merge(temp1,cor50*ma50, left_index=True, right_index=True, suffixes=[None, None] )\n",
    "    X=pd.merge(temp2,cor200*ma200, left_index=True, right_index=True , suffixes=['_50', '_200'])\n",
    "    X=X.dropna() #some top rows have Nan due to rolling averge calculations\n",
    "\n",
    "    Earnings_info=pd.DataFrame({'Announcement_dt':earn_dates[ticker].dropna(),\n",
    "                          'EPS':EPS[ticker].dropna(),\n",
    "                          'est_EPS':est_EPS[ticker].dropna()})\n",
    "    Earnings_info=Earnings_info.set_index('Announcement_dt')\n",
    "\n",
    "    #X and y_extra_info shall hv same no. of rows\n",
    "    y_extra_info=pd.merge(pd.DataFrame(index=X.index),Earnings_info, left_index=True, right_index=True, how='left')\n",
    "    y_extra_info=y_extra_info.fillna(method='bfill') #fill NaN with next earnings data, there will be some Nan\n",
    "                                        #remaining at the end since earnings not out yet. We\n",
    "                                        #won't be using those rows\n",
    "    #test data period - 4years\n",
    "    start_date='2015-03-09' #start date at least 11 trading days after cv period\n",
    "    end_date='2019-03-11'\n",
    "    \n",
    "    params = {\n",
    "            'start_date': start_date, \n",
    "            'end_date': end_date, \n",
    "            'Info': Earnings_info, \n",
    "            'X_all': X, \n",
    "            'y_all': y_extra_info, \n",
    "            's': ticker, \n",
    "            'W': b,\n",
    "            'model': model\n",
    "        }\n",
    "\n",
    "    y_pred=my_CorrelNowcast(**params)\n",
    "    MRE_model[i]=mean_absolute_percentage_error(y_extra_info.loc[start_date:end_date,'EPS'], y_pred)\n",
    "    MRE_bbg_est[i]=mean_absolute_percentage_error(y_extra_info.loc[start_date:end_date,'EPS'],\n",
    "                                                  y_extra_info.loc[start_date:end_date,'est_EPS'])\n",
    "    \n",
    "\n",
    "print('\\nTest period: 2015-03-09 to 2019-03-11')\n",
    "print('MRE from model:', np.mean(MRE_model))\n",
    "print('MRE from analyst estimates:', np.mean(MRE_bbg_est))\n"
   ]
  },
  {
   "cell_type": "code",
   "execution_count": 28,
   "metadata": {},
   "outputs": [],
   "source": [
    "from sklearn.ensemble import GradientBoostingRegressor"
   ]
  },
  {
   "cell_type": "code",
   "execution_count": 29,
   "metadata": {},
   "outputs": [],
   "source": [
    "model = GradientBoostingRegressor()"
   ]
  },
  {
   "cell_type": "code",
   "execution_count": 30,
   "metadata": {},
   "outputs": [
    {
     "name": "stdout",
     "output_type": "stream",
     "text": [
      "Index running...\n",
      "0 1 2 3 4 5 6 7 8 9 10 11 12 13 14 15 16 17 18 19 20 21 22 23 24 25 26 27 28 29 30 31 32 33 34 35 36 37 38 39 40 41 42 43 44 45 46 47 48 49 50 51 52 53 54 55 56 57 58 59 60 61 62 63 64 65 66 67 68 69 70 71 72 73 74 75 76 77 78 79 80 81 82 83 84 85 86 87 \n",
      "Test period: 2015-03-09 to 2019-03-11\n",
      "MRE from model: 0.23672570355170766\n",
      "MRE from analyst estimates: 0.11550951150632237\n",
      "CPU times: user 17min 30s, sys: 204 ms, total: 17min 30s\n",
      "Wall time: 17min 30s\n"
     ]
    }
   ],
   "source": [
    "%%time\n",
    "MRE_model=np.zeros(len(stock_list))\n",
    "MRE_bbg_est=np.zeros(len(stock_list))\n",
    "print('Index running...')\n",
    "for i, ticker in enumerate(stock_list):\n",
    "    print(i,'',end='') #visualize progress\n",
    "    cor11=px[ticker].rolling(11).corr(px)\n",
    "    cor50=px[ticker].rolling(50).corr(px)\n",
    "    cor200=px[ticker].rolling(200).corr(px)\n",
    "\n",
    "    temp1=pd.merge(px,cor11*ma11, left_index=True, right_index=True, suffixes=['_px', '_11'])\n",
    "    temp2=pd.merge(temp1,cor50*ma50, left_index=True, right_index=True, suffixes=[None, None] )\n",
    "    X=pd.merge(temp2,cor200*ma200, left_index=True, right_index=True , suffixes=['_50', '_200'])\n",
    "    X=X.dropna() #some top rows have Nan due to rolling averge calculations\n",
    "\n",
    "    Earnings_info=pd.DataFrame({'Announcement_dt':earn_dates[ticker].dropna(),\n",
    "                          'EPS':EPS[ticker].dropna(),\n",
    "                          'est_EPS':est_EPS[ticker].dropna()})\n",
    "    Earnings_info=Earnings_info.set_index('Announcement_dt')\n",
    "\n",
    "    #X and y_extra_info shall hv same no. of rows\n",
    "    y_extra_info=pd.merge(pd.DataFrame(index=X.index),Earnings_info, left_index=True, right_index=True, how='left')\n",
    "    y_extra_info=y_extra_info.fillna(method='bfill') #fill NaN with next earnings data, there will be some Nan\n",
    "                                        #remaining at the end since earnings not out yet. We\n",
    "                                        #won't be using those rows\n",
    "    #test data period - 4years\n",
    "    start_date='2015-03-09' #start date at least 11 trading days after cv period\n",
    "    end_date='2019-03-11'\n",
    "    \n",
    "    params = {\n",
    "            'start_date': start_date, \n",
    "            'end_date': end_date, \n",
    "            'Info': Earnings_info, \n",
    "            'X_all': X, \n",
    "            'y_all': y_extra_info, \n",
    "            's': ticker, \n",
    "            'W': b,\n",
    "            'model': model\n",
    "        }\n",
    "\n",
    "    y_pred=my_CorrelNowcast(**params)\n",
    "    MRE_model[i]=mean_absolute_percentage_error(y_extra_info.loc[start_date:end_date,'EPS'], y_pred)\n",
    "    MRE_bbg_est[i]=mean_absolute_percentage_error(y_extra_info.loc[start_date:end_date,'EPS'],\n",
    "                                                  y_extra_info.loc[start_date:end_date,'est_EPS'])\n",
    "    \n",
    "\n",
    "print('\\nTest period: 2015-03-09 to 2019-03-11')\n",
    "print('MRE from model:', np.mean(MRE_model))\n",
    "print('MRE from analyst estimates:', np.mean(MRE_bbg_est))\n",
    "\n"
   ]
  },
  {
   "cell_type": "code",
   "execution_count": 31,
   "metadata": {},
   "outputs": [],
   "source": [
    "from sklearn.linear_model import LinearRegression"
   ]
  },
  {
   "cell_type": "code",
   "execution_count": 32,
   "metadata": {},
   "outputs": [],
   "source": [
    "model = LinearRegression()"
   ]
  },
  {
   "cell_type": "code",
   "execution_count": 33,
   "metadata": {},
   "outputs": [
    {
     "name": "stdout",
     "output_type": "stream",
     "text": [
      "Index running...\n",
      "0 1 2 3 4 5 6 7 8 9 10 11 12 13 14 15 16 17 18 19 20 21 22 23 24 25 26 27 28 29 30 31 32 33 34 35 36 37 38 39 40 41 42 43 44 45 46 47 48 49 50 51 52 53 54 55 56 57 58 59 60 61 62 63 64 65 66 67 68 69 70 71 72 73 74 75 76 77 78 79 80 81 82 83 84 85 86 87 \n",
      "Test period: 2015-03-09 to 2019-03-11\n",
      "MRE from model: 0.2442538560345735\n",
      "MRE from analyst estimates: 0.11550951150632237\n",
      "CPU times: user 1h 8min 57s, sys: 54.2 s, total: 1h 9min 51s\n",
      "Wall time: 17min 3s\n"
     ]
    }
   ],
   "source": [
    "%%time\n",
    "MRE_model=np.zeros(len(stock_list))\n",
    "MRE_bbg_est=np.zeros(len(stock_list))\n",
    "print('Index running...')\n",
    "for i, ticker in enumerate(stock_list):\n",
    "    print(i,'',end='') #visualize progress\n",
    "    cor11=px[ticker].rolling(11).corr(px)\n",
    "    cor50=px[ticker].rolling(50).corr(px)\n",
    "    cor200=px[ticker].rolling(200).corr(px)\n",
    "\n",
    "    temp1=pd.merge(px,cor11*ma11, left_index=True, right_index=True, suffixes=['_px', '_11'])\n",
    "    temp2=pd.merge(temp1,cor50*ma50, left_index=True, right_index=True, suffixes=[None, None] )\n",
    "    X=pd.merge(temp2,cor200*ma200, left_index=True, right_index=True , suffixes=['_50', '_200'])\n",
    "    X=X.dropna() #some top rows have Nan due to rolling averge calculations\n",
    "\n",
    "    Earnings_info=pd.DataFrame({'Announcement_dt':earn_dates[ticker].dropna(),\n",
    "                          'EPS':EPS[ticker].dropna(),\n",
    "                          'est_EPS':est_EPS[ticker].dropna()})\n",
    "    Earnings_info=Earnings_info.set_index('Announcement_dt')\n",
    "\n",
    "    #X and y_extra_info shall hv same no. of rows\n",
    "    y_extra_info=pd.merge(pd.DataFrame(index=X.index),Earnings_info, left_index=True, right_index=True, how='left')\n",
    "    y_extra_info=y_extra_info.fillna(method='bfill') #fill NaN with next earnings data, there will be some Nan\n",
    "                                        #remaining at the end since earnings not out yet. We\n",
    "                                        #won't be using those rows\n",
    "    #test data period - 4years\n",
    "    start_date='2015-03-09' #start date at least 11 trading days after cv period\n",
    "    end_date='2019-03-11'\n",
    "    \n",
    "    params = {\n",
    "            'start_date': start_date, \n",
    "            'end_date': end_date, \n",
    "            'Info': Earnings_info, \n",
    "            'X_all': X, \n",
    "            'y_all': y_extra_info, \n",
    "            's': ticker, \n",
    "            'W': b,\n",
    "            'model': model\n",
    "        }\n",
    "\n",
    "    y_pred=my_CorrelNowcast(**params)\n",
    "    MRE_model[i]=mean_absolute_percentage_error(y_extra_info.loc[start_date:end_date,'EPS'], y_pred)\n",
    "    MRE_bbg_est[i]=mean_absolute_percentage_error(y_extra_info.loc[start_date:end_date,'EPS'],\n",
    "                                                  y_extra_info.loc[start_date:end_date,'est_EPS'])\n",
    "    \n",
    "\n",
    "print('\\nTest period: 2015-03-09 to 2019-03-11')\n",
    "print('MRE from model:', np.mean(MRE_model))\n",
    "print('MRE from analyst estimates:', np.mean(MRE_bbg_est))\n",
    "\n",
    "\n"
   ]
  },
  {
   "cell_type": "markdown",
   "metadata": {},
   "source": [
    "MRE from model actually higher then MRE from analyst estimates. This does not support the paper's claim."
   ]
  }
 ],
 "metadata": {
  "kernelspec": {
   "display_name": "Python 3",
   "language": "python",
   "name": "python3"
  },
  "language_info": {
   "codemirror_mode": {
    "name": "ipython",
    "version": 3
   },
   "file_extension": ".py",
   "mimetype": "text/x-python",
   "name": "python",
   "nbconvert_exporter": "python",
   "pygments_lexer": "ipython3",
   "version": "3.7.10"
  }
 },
 "nbformat": 4,
 "nbformat_minor": 4
}
